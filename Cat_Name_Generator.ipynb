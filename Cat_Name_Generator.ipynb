{
  "nbformat": 4,
  "nbformat_minor": 0,
  "metadata": {
    "colab": {
      "provenance": [],
      "authorship_tag": "ABX9TyP5SMmKygoMe2Q89sXYsPTK",
      "include_colab_link": true
    },
    "kernelspec": {
      "name": "python3",
      "display_name": "Python 3"
    },
    "language_info": {
      "name": "python"
    }
  },
  "cells": [
    {
      "cell_type": "markdown",
      "metadata": {
        "id": "view-in-github",
        "colab_type": "text"
      },
      "source": [
        "<a href=\"https://colab.research.google.com/github/brunoconterato/cat-name-generator/blob/main/Cat_Name_Generator.ipynb\" target=\"_parent\"><img src=\"https://colab.research.google.com/assets/colab-badge.svg\" alt=\"Open In Colab\"/></a>"
      ]
    },
    {
      "cell_type": "code",
      "execution_count": 1,
      "metadata": {
        "id": "z5IF4bW_gqz0"
      },
      "outputs": [],
      "source": [
        "import random\n",
        "\n",
        "# gpt 3.5\n",
        "def gerar_nome_gato(genero=None, categoria=None):\n",
        "    nomes = {\n",
        "        \"comida\": [\"Pipoca\", \"Cookie\", \"Mel\", \"Amêndoa\", \"Muffin\"],\n",
        "        \"deuses\": [\"Apolo\", \"Artemis\", \"Thor\", \"Freya\", \"Luna\"],\n",
        "        \"heróis da história\": [\"Hércules\", \"Joana\", \"Athena\", \"Merlin\", \"Elsa\"],\n",
        "        \"nomes comuns\": [\"Bella\", \"Oliver\", \"Lola\", \"Max\", \"Lucy\"],\n",
        "        \"cores\": [\"Lilás\", \"Amarelo\", \"Cinza\", \"Marrom\", \"Siamês\"],\n",
        "        \"personalidades\": [\"Mozart\", \"Cleópatra\", \"Einstein\", \"Diva\", \"Ninja\"],\n",
        "        \"lugares\": [\"Rio\", \"Milão\", \"Paris\", \"Kyoto\", \"Barcelona\"],\n",
        "        \"flores\": [\"Jasmim\", \"Rosa\", \"Orquídea\", \"Margarida\", \"Lírio\"],\n",
        "        \"filmes\": [\"Simba\", \"Nemo\", \"Hermione\", \"Frodo\", \"Mulan\"]\n",
        "    }\n",
        "\n",
        "    if genero is None:\n",
        "        genero = random.choice([\"macho\", \"fêmea\"])\n",
        "\n",
        "    if categoria is None or categoria == \"todas\":\n",
        "        categorias = list(nomes.keys())\n",
        "    else:\n",
        "        categorias = [categoria]\n",
        "\n",
        "    if genero == \"macho\" or genero == \"m\":\n",
        "        nomes_categoria = nomes[random.choice(categorias)]\n",
        "    elif genero == \"fêmea\" or genero == \"f\":\n",
        "        nomes_categoria = [nome + \"a\" for nome in nomes[random.choice(categorias)]]\n",
        "\n",
        "    nome_gato = random.choice(nomes_categoria)\n",
        "\n",
        "    return nome_gato"
      ]
    },
    {
      "cell_type": "code",
      "source": [
        "# Gera um nome de gato aleatório\n",
        "nome = gerar_nome_gato()\n",
        "print(nome)\n",
        "\n",
        "# Gera um nome de gato masculino\n",
        "nome_macho = gerar_nome_gato(genero=\"macho\")\n",
        "print(nome_macho)\n",
        "\n",
        "# Gera um nome de gato feminino da categoria \"flores\"\n",
        "nome_femea = gerar_nome_gato(genero=\"fêmea\", categoria=\"flores\")\n",
        "print(nome_femea)"
      ],
      "metadata": {
        "colab": {
          "base_uri": "https://localhost:8080/"
        },
        "id": "tWD5K87hi55g",
        "outputId": "d9d45a99-e061-4d37-99b4-eb08863bb008"
      },
      "execution_count": 2,
      "outputs": [
        {
          "output_type": "stream",
          "name": "stdout",
          "text": [
            "Diva\n",
            "Milão\n",
            "Rosaa\n"
          ]
        }
      ]
    },
    {
      "cell_type": "code",
      "source": [
        "# GPT 4\n",
        "import random\n",
        "\n",
        "names = {\n",
        "    \"comida\": {\n",
        "        \"m\": [\"Bacon\", \"Taco\", \"Biscoito\", \"Cupcake\", \"Waffle\"],\n",
        "        \"f\": [\"Cereja\", \"Amêndoa\", \"Caramelo\", \"Bolacha\", \"Gelatina\"],\n",
        "    },\n",
        "    \"deuses\": {\n",
        "        \"m\": [\"Zeus\", \"Hércules\", \"Tritão\", \"Odin\", \"Anúbis\"],\n",
        "        \"f\": [\"Afrodite\", \"Atena\", \"Hera\", \"Perséfone\", \"Bastet\"],\n",
        "    },\n",
        "    \"animais_míticos\": {\n",
        "        \"m\": [\"Grifo\", \"Dragão\", \"Fênix\", \"Salamandra\", \"Fauno\"],\n",
        "        \"f\": [\"Quimera\", \"Medusa\", \"Sereia\", \"Náiade\", \"Xana\"],\n",
        "    },\n",
        "    \"gatos_famosos\": {\n",
        "        \"m\": [\"Garfield\", \"Tom\", \"Silvestre\", \"Simba\", \"Frajola\"],\n",
        "        \"f\": [\"Mimi\", \"Luna\", \"Nala\", \"Hello Kitty\", \"Choupette\"]\n",
        "    },\n",
        "    \"cores\": {\n",
        "        \"m\": [\"Azul\", \"Sombra\", \"Cinza\", \"Névoa\", \"Vermelho\"],\n",
        "        \"f\": [\"Rosa\", \"Amarelinha\", \"Branquinha\", \"Lilás\", \"Dourada\"]\n",
        "    },\n",
        "    \"personalidades_atuais\": {\n",
        "        \"m\": [\"Elon\", \"Barack\", \"Bono\", \"Keanu\", \"Bolsonaro\"],\n",
        "        \"f\": [\"Greta\", \"Malala\", \"Oprah\", \"Rihanna\", \"Emma\"]\n",
        "    },\n",
        "    \"personalidades_historicas\": {\n",
        "        \"m\": [\"Galileu\", \"Beethoven\", \"Van Gogh\", \"Da Vinci\", \"Einstein\"],\n",
        "        \"f\": [\"Harriet\", \"Cleópatra\", \"Jane Austen\", \"Rosa Parks\", \"Frida Kahlo\"]\n",
        "    },\n",
        "    \"lugares\": {\n",
        "        \"m\": [\"Milão\", \"Madri\", \"Orlando\", \"Boston\", \"Brooklyn\"],\n",
        "        \"f\": [\n",
        "            \"Veneza\",\n",
        "            \"Atenas\",\n",
        "            \"Viena\",\n",
        "            \"Valência\",\n",
        "            \"Siena\",\n",
        "            \"Florência\",\n",
        "            \"Capri\",\n",
        "            \"Bali\",\n",
        "        ],\n",
        "    },\n",
        "    \"flores\": {\n",
        "        \"m\": [\"Lótus\", \"Cravo\", \"Girassol\", \"Dália\", \"Bromélia\"],\n",
        "        \"f\": [\"Rosa\", \"Margarida\", \"Violeta\", \"Tulipa\", \"Camélia\"],\n",
        "    },\n",
        "    \"filmes\": {\n",
        "        \"m\": [\"Pegasus\", \"Gizmo\", \"Darth\", \"Gandalf\", \"Hércules\"],\n",
        "        \"f\": [\"Amélie\", \"Leia\", \"Mary Poppins\", \"Arwen\", \"Matilda\"],\n",
        "    },\n",
        "}\n",
        "\n",
        "def get_categories():\n",
        "    return list(names.keys())\n",
        "\n",
        "def generate_cat_name(gender=None, category=None):\n",
        "    global names\n",
        "    if category is None or category not in names:\n",
        "        category = random.choice(list(names.keys()))\n",
        "\n",
        "    if gender is None or gender.lower() not in ['m', 'f', 'macho', 'fêmea']:\n",
        "        gender = random.choice(['m', 'f'])\n",
        "    else:\n",
        "        gender = gender.lower()\n",
        "\n",
        "    if gender in ['m', 'macho']:\n",
        "        gender = 'm'\n",
        "    else:\n",
        "        gender = 'f'\n",
        "\n",
        "    cat_name = random.choice(names[category][gender])\n",
        "\n",
        "    return cat_name\n"
      ],
      "metadata": {
        "id": "sMN_GnY8kuIk"
      },
      "execution_count": 3,
      "outputs": []
    },
    {
      "cell_type": "code",
      "source": [
        "# Exemplos de uso da função:\n",
        "print(generate_cat_name())  # Sem fornecer gênero ou categoria\n",
        "print(generate_cat_name('macho', 'comida'))  # Gênero e categoria fornecidos\n",
        "print(generate_cat_name('f', 'filmes'))  # Gênero e categoria fornecidos\n",
        "print(generate_cat_name('m'))"
      ],
      "metadata": {
        "colab": {
          "base_uri": "https://localhost:8080/"
        },
        "id": "1tFnuwj2lZrp",
        "outputId": "0acfb2ab-f9e0-432b-ff55-7a7d318ca16c"
      },
      "execution_count": 4,
      "outputs": [
        {
          "output_type": "stream",
          "name": "stdout",
          "text": [
            "Malala\n",
            "Biscoito\n",
            "Arwen\n",
            "Dragão\n"
          ]
        }
      ]
    },
    {
      "cell_type": "code",
      "source": [
        "def chat():\n",
        "    print(\"Olá! Vamos conversar sobre nomes de gatos?\")\n",
        "    print(\"Eu posso sugerir um nome de gato com base no gênero e na categoria.\")\n",
        "\n",
        "    while True:\n",
        "        print(\"\\nPor favor, digite o gênero do gato ('macho', 'fêmea', 'm' ou 'f') ou 'sair' para encerrar:\")\n",
        "        gender = input().strip()\n",
        "\n",
        "        if gender.lower() in [\"sair\", \"quit\", \"exit\"]:\n",
        "            print(\"Tchau! Até a próxima.\")\n",
        "            break\n",
        "\n",
        "        print(\"\\nAqui estão as categorias disponíveis:\")\n",
        "        print(\", \".join(get_categories()))\n",
        "        print(\"\\nDigite uma categoria ou 'sair' para encerrar:\")\n",
        "        category = input().strip()\n",
        "\n",
        "        if category.lower() in [\"sair\", \"quit\", \"exit\"]:\n",
        "            print(\"Tchau! Até a próxima.\")\n",
        "            break\n",
        "\n",
        "        cat_name = generate_cat_name(gender, category)\n",
        "        print(f\"\\nEu sugiro o nome {cat_name} para seu gato!\")\n",
        "\n",
        "        print(\"\\nDeseja outra sugestão de nome? Digite 'sim' ou 'sair' para encerrar:\")\n",
        "        try_again = input().strip().lower()\n",
        "\n",
        "        if try_again in [\"sair\", \"quit\", \"exit\"]:\n",
        "            print(\"Tchau! Até a próxima.\")\n",
        "            break\n",
        "\n",
        "# Inicie o chat\n",
        "chat()"
      ],
      "metadata": {
        "colab": {
          "base_uri": "https://localhost:8080/"
        },
        "id": "nuThoGqelg1m",
        "outputId": "98b7b9fa-3261-409b-b468-8f3dcb73a938"
      },
      "execution_count": 5,
      "outputs": [
        {
          "output_type": "stream",
          "name": "stdout",
          "text": [
            "Olá! Vamos conversar sobre nomes de gatos?\n",
            "Eu posso sugerir um nome de gato com base no gênero e na categoria.\n",
            "\n",
            "Por favor, digite o gênero do gato ('macho', 'fêmea', 'm' ou 'f') ou 'sair' para encerrar:\n",
            "m\n",
            "\n",
            "Aqui estão as categorias disponíveis:\n",
            "comida, deuses, animais_míticos, gatos_famosos, cores, personalidades_atuais, personalidades_historicas, lugares, flores, filmes\n",
            "\n",
            "Digite uma categoria ou 'sair' para encerrar:\n",
            "deuses\n",
            "\n",
            "Eu sugiro o nome Hércules para seu gato!\n",
            "\n",
            "Deseja outra sugestão de nome? Digite 'sim' ou 'sair' para encerrar:\n",
            "sim\n",
            "\n",
            "Por favor, digite o gênero do gato ('macho', 'fêmea', 'm' ou 'f') ou 'sair' para encerrar:\n",
            "m\n",
            "\n",
            "Aqui estão as categorias disponíveis:\n",
            "comida, deuses, animais_míticos, gatos_famosos, cores, personalidades_atuais, personalidades_historicas, lugares, flores, filmes\n",
            "\n",
            "Digite uma categoria ou 'sair' para encerrar:\n",
            "animais_miticos\n",
            "\n",
            "Eu sugiro o nome Garfield para seu gato!\n",
            "\n",
            "Deseja outra sugestão de nome? Digite 'sim' ou 'sair' para encerrar:\n",
            "sim\n",
            "\n",
            "Por favor, digite o gênero do gato ('macho', 'fêmea', 'm' ou 'f') ou 'sair' para encerrar:\n",
            "m\n",
            "\n",
            "Aqui estão as categorias disponíveis:\n",
            "comida, deuses, animais_míticos, gatos_famosos, cores, personalidades_atuais, personalidades_historicas, lugares, flores, filmes\n",
            "\n",
            "Digite uma categoria ou 'sair' para encerrar:\n",
            "gatos_famosos\n",
            "\n",
            "Eu sugiro o nome Frajola para seu gato!\n",
            "\n",
            "Deseja outra sugestão de nome? Digite 'sim' ou 'sair' para encerrar:\n",
            "sim\n",
            "\n",
            "Por favor, digite o gênero do gato ('macho', 'fêmea', 'm' ou 'f') ou 'sair' para encerrar:\n",
            "m\n",
            "\n",
            "Aqui estão as categorias disponíveis:\n",
            "comida, deuses, animais_míticos, gatos_famosos, cores, personalidades_atuais, personalidades_historicas, lugares, flores, filmes\n",
            "\n",
            "Digite uma categoria ou 'sair' para encerrar:\n",
            "personalidades_historicas\n",
            "\n",
            "Eu sugiro o nome Van Gogh para seu gato!\n",
            "\n",
            "Deseja outra sugestão de nome? Digite 'sim' ou 'sair' para encerrar:\n",
            "sair\n",
            "Tchau! Até a próxima.\n"
          ]
        }
      ]
    },
    {
      "cell_type": "code",
      "source": [],
      "metadata": {
        "id": "LUNERLaJs7Im"
      },
      "execution_count": 5,
      "outputs": []
    }
  ]
}